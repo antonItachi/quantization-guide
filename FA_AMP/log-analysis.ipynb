{
 "cells": [
  {
   "cell_type": "code",
   "id": "initial_id",
   "metadata": {
    "collapsed": true,
    "ExecuteTime": {
     "end_time": "2024-12-17T14:36:39.774844Z",
     "start_time": "2024-12-17T14:36:39.772517Z"
    }
   },
   "source": [
    "import json\n",
    "import pandas as pd\n",
    "import numpy as np"
   ],
   "outputs": [],
   "execution_count": 2
  },
  {
   "metadata": {
    "ExecuteTime": {
     "end_time": "2024-12-17T14:36:47.810743Z",
     "start_time": "2024-12-17T14:36:47.799959Z"
    }
   },
   "cell_type": "code",
   "source": [
    "# Load the file\n",
    "file_path = '/home/krasniuk-ai/ai/model-speedup-guide/logs/flash_attention_amp_gpt2.json'\n",
    "with open(file_path, 'r') as f:\n",
    "    data = json.load(f)\n",
    "\n",
    "# Function to calculate average stats for each case\n",
    "def calculate_average_stats(data):\n",
    "    results = []\n",
    "    for seq_len, scenarios in data.items():\n",
    "        for scenario, steps in scenarios.items():\n",
    "            avg_tokens_per_second = sum(step['tokens_per_second'] for step in steps) / len(steps)\n",
    "            avg_memory_active = sum(step['peak_memory_active'] for step in steps) / len(steps)\n",
    "            avg_memory_reserved = sum(step['peak_memory_reserved'] for step in steps) / len(steps)\n",
    "            results.append({\n",
    "                'Sequence Length': seq_len,\n",
    "                'Scenario': scenario,\n",
    "                'Steps': len(steps),\n",
    "                'Avg Tokens/s': avg_tokens_per_second,\n",
    "                'Avg Memory Active (GB)': avg_memory_active,\n",
    "                'Avg Memory Reserved (GB)': avg_memory_reserved\n",
    "            })\n",
    "    return pd.DataFrame(results)\n",
    "\n",
    "# Process the data\n",
    "average_stats_df = calculate_average_stats(data)"
   ],
   "id": "e65a7dc85adf237c",
   "outputs": [],
   "execution_count": 3
  },
  {
   "metadata": {
    "ExecuteTime": {
     "end_time": "2024-12-17T14:36:55.633002Z",
     "start_time": "2024-12-17T14:36:55.626498Z"
    }
   },
   "cell_type": "code",
   "source": "print(average_stats_df)",
   "id": "8f670b72ebc1b9b3",
   "outputs": [
    {
     "name": "stdout",
     "output_type": "stream",
     "text": [
      "   Sequence Length Scenario  Steps  Avg Tokens/s  Avg Memory Active (GB)  \\\n",
      "0              256     base    400     31.017400                2.408476   \n",
      "1              256      amp    400     33.637281                2.217724   \n",
      "2              256    flash    400     33.103886                2.217724   \n",
      "3              512     base    400     39.824427                2.488255   \n",
      "4              512      amp    400     54.047740                2.486269   \n",
      "5              512    flash    400     53.939127                2.486275   \n",
      "6             1024      amp     23    685.413512                3.161298   \n",
      "7             1024    flash     23    677.476579                3.161304   \n",
      "8              896     base     44    284.361862                3.171019   \n",
      "9              896    flash     44    406.172534                3.006074   \n",
      "10             896      amp     44    409.698125                3.006068   \n",
      "\n",
      "    Avg Memory Reserved (GB)  \n",
      "0                   2.649332  \n",
      "1                   2.531782  \n",
      "2                   2.531782  \n",
      "3                   2.918271  \n",
      "4                   2.814425  \n",
      "5                   2.814425  \n",
      "6                   3.464951  \n",
      "7                   3.464951  \n",
      "8                   3.304111  \n",
      "9                   3.280804  \n",
      "10                  3.280804  \n"
     ]
    }
   ],
   "execution_count": 4
  },
  {
   "metadata": {},
   "cell_type": "code",
   "outputs": [],
   "execution_count": null,
   "source": "",
   "id": "472347872aa89724"
  }
 ],
 "metadata": {
  "kernelspec": {
   "display_name": "Python 3",
   "language": "python",
   "name": "python3"
  },
  "language_info": {
   "codemirror_mode": {
    "name": "ipython",
    "version": 2
   },
   "file_extension": ".py",
   "mimetype": "text/x-python",
   "name": "python",
   "nbconvert_exporter": "python",
   "pygments_lexer": "ipython2",
   "version": "2.7.6"
  }
 },
 "nbformat": 4,
 "nbformat_minor": 5
}
